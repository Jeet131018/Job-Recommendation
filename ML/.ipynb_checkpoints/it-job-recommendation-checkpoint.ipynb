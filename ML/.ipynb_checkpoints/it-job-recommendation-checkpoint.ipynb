{
 "cells": [
  {
   "cell_type": "markdown",
   "metadata": {},
   "source": [
    "# Job Recommendations \n",
    "\n",
    "This notebook creates a model, to recommend job positions given a position requirements description . This is done only for IT jobs. "
   ]
  },
  {
   "cell_type": "code",
   "execution_count": 16,
   "metadata": {
    "_cell_guid": "b1076dfc-b9ad-4769-8c92-a6c4dae69d19",
    "_uuid": "8f2839f25d086af736a60e9eeb907d3b93b6e0e5",
    "execution": {
     "iopub.execute_input": "2023-06-25T01:40:09.199538Z",
     "iopub.status.busy": "2023-06-25T01:40:09.199197Z",
     "iopub.status.idle": "2023-06-25T01:40:09.216694Z",
     "shell.execute_reply": "2023-06-25T01:40:09.215628Z",
     "shell.execute_reply.started": "2023-06-25T01:40:09.199488Z"
    }
   },
   "outputs": [
    {
     "name": "stdout",
     "output_type": "stream",
     "text": [
      "/kaggle/input/jobposts/data job posts.csv\n",
      "/kaggle/input/jobposts/screenshot.jpg\n"
     ]
    }
   ],
   "source": [
    "# This Python 3 environment comes with many helpful analytics libraries installed\n",
    "# It is defined by the kaggle/python docker image: https://github.com/kaggle/docker-python\n",
    "# For example, here's several helpful packages to load in \n",
    "\n",
    "import numpy as np # linear algebra\n",
    "import pandas as pd # data processing, CSV file I/O (e.g. pd.read_csv)\n",
    "from sklearn.feature_extraction import DictVectorizer\n",
    "from sklearn.feature_extraction.text import CountVectorizer\n",
    "from sklearn.model_selection import train_test_split\n",
    "# Input data files are available in the \"../input/\" directory.\n",
    "# For example, running this (by clicking run or pressing Shift+Enter) will list all files under the input directory\n",
    "import nltk\n",
    "from nltk.corpus import stopwords\n",
    "from sklearn.preprocessing import LabelEncoder\n",
    "from sklearn.mixture import GaussianMixture\n",
    "from sklearn.cluster import KMeans\n",
    "from sklearn.metrics import accuracy_score, auc, roc_curve, roc_auc_score\n",
    "\n",
    "    \n",
    "import os\n",
    "for dirname, _, filenames in os.walk('/t'):\n",
    "    for filename in filenames:\n",
    "        print(os.path.join(dirname, filename))\n",
    "\n",
    "# Any results you write to the current directory are saved as output.\n",
    "\n"
   ]
  },
  {
   "cell_type": "code",
   "execution_count": 17,
   "metadata": {
    "execution": {
     "iopub.execute_input": "2023-06-25T01:40:09.218677Z",
     "iopub.status.busy": "2023-06-25T01:40:09.218269Z",
     "iopub.status.idle": "2023-06-25T01:40:10.222246Z",
     "shell.execute_reply": "2023-06-25T01:40:10.221271Z",
     "shell.execute_reply.started": "2023-06-25T01:40:09.218633Z"
    }
   },
   "outputs": [
    {
     "name": "stdout",
     "output_type": "stream",
     "text": [
      "Index(['jobpost', 'date', 'Title', 'Company', 'AnnouncementCode', 'Term',\n",
      "       'Eligibility', 'Audience', 'StartDate', 'Duration', 'Location',\n",
      "       'JobDescription', 'JobRequirment', 'RequiredQual', 'Salary',\n",
      "       'ApplicationP', 'OpeningDate', 'Deadline', 'Notes', 'AboutC', 'Attach',\n",
      "       'Year', 'Month', 'IT'],\n",
      "      dtype='object')\n"
     ]
    },
    {
     "data": {
      "text/html": [
       "<div>\n",
       "<style scoped>\n",
       "    .dataframe tbody tr th:only-of-type {\n",
       "        vertical-align: middle;\n",
       "    }\n",
       "\n",
       "    .dataframe tbody tr th {\n",
       "        vertical-align: top;\n",
       "    }\n",
       "\n",
       "    .dataframe thead th {\n",
       "        text-align: right;\n",
       "    }\n",
       "</style>\n",
       "<table border=\"1\" class=\"dataframe\">\n",
       "  <thead>\n",
       "    <tr style=\"text-align: right;\">\n",
       "      <th></th>\n",
       "      <th>RequiredQual</th>\n",
       "      <th>Eligibility</th>\n",
       "      <th>Title</th>\n",
       "      <th>JobDescription</th>\n",
       "      <th>JobRequirment</th>\n",
       "    </tr>\n",
       "  </thead>\n",
       "  <tbody>\n",
       "    <tr>\n",
       "      <td>4</td>\n",
       "      <td>- University degree; economical background is ...</td>\n",
       "      <td>NaN</td>\n",
       "      <td>Software Developer</td>\n",
       "      <td>NaN</td>\n",
       "      <td>- Rendering technical assistance to Database M...</td>\n",
       "    </tr>\n",
       "    <tr>\n",
       "      <td>15</td>\n",
       "      <td>- Excellent knowledge of Windows 2000 Server, ...</td>\n",
       "      <td>NaN</td>\n",
       "      <td>Network Administrator</td>\n",
       "      <td>NaN</td>\n",
       "      <td>- Network monitoring and administration;\\r\\n- ...</td>\n",
       "    </tr>\n",
       "    <tr>\n",
       "      <td>19</td>\n",
       "      <td>As a GD you are creative, innovative and have\\...</td>\n",
       "      <td>NaN</td>\n",
       "      <td>Graphic Designer</td>\n",
       "      <td>The position of Graphic Designer (GD) demands ...</td>\n",
       "      <td>Graphic Designer will be responsible for every...</td>\n",
       "    </tr>\n",
       "    <tr>\n",
       "      <td>34</td>\n",
       "      <td>Participants should be mid-level professionals...</td>\n",
       "      <td>NaN</td>\n",
       "      <td>Demographic Analysis Workshop</td>\n",
       "      <td>NaN</td>\n",
       "      <td>NaN</td>\n",
       "    </tr>\n",
       "    <tr>\n",
       "      <td>35</td>\n",
       "      <td>- Work experience of at least two years; \\r\\n-...</td>\n",
       "      <td>NaN</td>\n",
       "      <td>Programmer</td>\n",
       "      <td>NaN</td>\n",
       "      <td>NaN</td>\n",
       "    </tr>\n",
       "  </tbody>\n",
       "</table>\n",
       "</div>"
      ],
      "text/plain": [
       "                                         RequiredQual Eligibility  \\\n",
       "4   - University degree; economical background is ...         NaN   \n",
       "15  - Excellent knowledge of Windows 2000 Server, ...         NaN   \n",
       "19  As a GD you are creative, innovative and have\\...         NaN   \n",
       "34  Participants should be mid-level professionals...         NaN   \n",
       "35  - Work experience of at least two years; \\r\\n-...         NaN   \n",
       "\n",
       "                            Title  \\\n",
       "4              Software Developer   \n",
       "15          Network Administrator   \n",
       "19               Graphic Designer   \n",
       "34  Demographic Analysis Workshop   \n",
       "35                     Programmer   \n",
       "\n",
       "                                       JobDescription  \\\n",
       "4                                                 NaN   \n",
       "15                                                NaN   \n",
       "19  The position of Graphic Designer (GD) demands ...   \n",
       "34                                                NaN   \n",
       "35                                                NaN   \n",
       "\n",
       "                                        JobRequirment  \n",
       "4   - Rendering technical assistance to Database M...  \n",
       "15  - Network monitoring and administration;\\r\\n- ...  \n",
       "19  Graphic Designer will be responsible for every...  \n",
       "34                                                NaN  \n",
       "35                                                NaN  "
      ]
     },
     "execution_count": 17,
     "metadata": {},
     "output_type": "execute_result"
    }
   ],
   "source": [
    "data = pd.read_csv('/kaggle/input/jobposts/data job posts.csv')\n",
    "print(data.columns)\n",
    "# selecting only IT Jobs\n",
    "df = data[data['IT']]\n",
    "# selecting \n",
    "cols = ['RequiredQual', 'Eligibility', 'Title', 'JobDescription', 'JobRequirment']\n",
    "df=df[cols]\n",
    "df.head(5)"
   ]
  },
  {
   "cell_type": "markdown",
   "metadata": {},
   "source": [
    "# Modifying Job Titles\n",
    "Selecting only top 21 job titles, to manage class imbalance"
   ]
  },
  {
   "cell_type": "code",
   "execution_count": 18,
   "metadata": {
    "execution": {
     "iopub.execute_input": "2023-06-25T01:40:10.223887Z",
     "iopub.status.busy": "2023-06-25T01:40:10.223621Z",
     "iopub.status.idle": "2023-06-25T01:40:10.239128Z",
     "shell.execute_reply": "2023-06-25T01:40:10.238279Z",
     "shell.execute_reply.started": "2023-06-25T01:40:10.223841Z"
    }
   },
   "outputs": [
    {
     "data": {
      "text/plain": [
       "Software Developer           134\n",
       "Web Developer                101\n",
       "Java Developer                88\n",
       "Graphic Designer              75\n",
       "Software Engineer             69\n",
       "Senior Java Developer         69\n",
       "PHP Developer                 65\n",
       "Senior Software Engineer      63\n",
       "Programmer                    56\n",
       "IT Specialist                 55\n",
       "Senior QA Engineer            43\n",
       "Senior Software Developer     41\n",
       "Android Developer             37\n",
       ".NET Developer                36\n",
       "Senior PHP Developer          34\n",
       "Senior .NET Developer         34\n",
       "iOS Developer                 31\n",
       "Software QA Engineer          29\n",
       "Senior Web Developer          29\n",
       "Database Developer            29\n",
       "Database Administrator        28\n",
       "Name: Title, dtype: int64"
      ]
     },
     "execution_count": 18,
     "metadata": {},
     "output_type": "execute_result"
    }
   ],
   "source": [
    "classes = df['Title'].value_counts()[:21]\n",
    "keys = classes.keys().to_list()\n",
    "\n",
    "df = df[df['Title'].isin(keys)]\n",
    "df['Title'].value_counts()"
   ]
  },
  {
   "cell_type": "markdown",
   "metadata": {},
   "source": [
    "Change job titles to base title. For exmaple, chaning Senior Java Developer to Java Developer.   "
   ]
  },
  {
   "cell_type": "code",
   "execution_count": 19,
   "metadata": {
    "execution": {
     "iopub.execute_input": "2023-06-25T01:40:10.241298Z",
     "iopub.status.busy": "2023-06-25T01:40:10.240912Z",
     "iopub.status.idle": "2023-06-25T01:40:10.256967Z",
     "shell.execute_reply": "2023-06-25T01:40:10.255952Z",
     "shell.execute_reply.started": "2023-06-25T01:40:10.241228Z"
    }
   },
   "outputs": [
    {
     "data": {
      "text/plain": [
       "Java Developer          157\n",
       "Software Developer      134\n",
       "Software Engineer       132\n",
       "Web Developer           130\n",
       "PHP Developer            99\n",
       "Graphic Designer         75\n",
       "Software QA Engineer     72\n",
       ".NET Developer           70\n",
       "Database Admin/Dev       57\n",
       "Programmer               56\n",
       "IT Specialist            55\n",
       "Senior Web Developer     41\n",
       "Android Developer        37\n",
       "iOS Developer            31\n",
       "Name: Title, dtype: int64"
      ]
     },
     "execution_count": 19,
     "metadata": {},
     "output_type": "execute_result"
    }
   ],
   "source": [
    "def chane_titles(x):\n",
    "    x = x.strip()\n",
    "    if x == 'Senior Java Developer':\n",
    "        return 'Java Developer'\n",
    "    elif x == 'Senior Software Engineer':\n",
    "        return 'Software Engineer'\n",
    "    elif x == 'Senior QA Engineer':\n",
    "        return 'Software QA Engineer'\n",
    "    elif x == 'Senior Software Developer':\n",
    "        return 'Senior Web Developer'\n",
    "    elif x =='Senior PHP Developer':\n",
    "        return 'PHP Developer'\n",
    "    elif x == 'Senior .NET Developer':\n",
    "        return '.NET Developer'\n",
    "    elif x == 'Senior Web Developer':\n",
    "        return 'Web Developer'\n",
    "    elif x == 'Database Administrator':\n",
    "        return 'Database Admin/Dev'\n",
    "    elif x == 'Database Developer':\n",
    "        return 'Database Admin/Dev'\n",
    "\n",
    "    else:\n",
    "        return x\n",
    "        \n",
    "    \n",
    "df['Title'] = df['Title'].apply(chane_titles)\n",
    "df['Title'].value_counts()"
   ]
  },
  {
   "cell_type": "markdown",
   "metadata": {},
   "source": [
    "# Building custom tokenizer to process text"
   ]
  },
  {
   "cell_type": "code",
   "execution_count": 20,
   "metadata": {
    "execution": {
     "iopub.execute_input": "2023-06-25T01:40:10.261343Z",
     "iopub.status.busy": "2023-06-25T01:40:10.260724Z",
     "iopub.status.idle": "2023-06-25T01:40:10.282760Z",
     "shell.execute_reply": "2023-06-25T01:40:10.281763Z",
     "shell.execute_reply.started": "2023-06-25T01:40:10.261055Z"
    }
   },
   "outputs": [],
   "source": [
    "from nltk import word_tokenize          \n",
    "from nltk.stem import WordNetLemmatizer \n",
    "class LemmaTokenizer(object):\n",
    "    def __init__(self):\n",
    "        # lemmatize text - convert to base form \n",
    "        self.wnl = WordNetLemmatizer()\n",
    "        # creating stopwords list, to ignore lemmatizing stopwords \n",
    "        self.stopwords = stopwords.words('english')\n",
    "    def __call__(self, doc):\n",
    "        return [self.wnl.lemmatize(t) for t in word_tokenize(doc) if t not in self.stopwords]\n",
    "\n",
    "# removing new line characters, and certain hypen patterns                  \n",
    "df['RequiredQual']=df['RequiredQual'].apply(lambda x: x.replace('\\n', ' ').replace('\\r', '').replace('- ', ''). replace(' - ', ' to '))"
   ]
  },
  {
   "cell_type": "markdown",
   "metadata": {},
   "source": [
    "# Featurizing Text"
   ]
  },
  {
   "cell_type": "code",
   "execution_count": 21,
   "metadata": {
    "execution": {
     "iopub.execute_input": "2023-06-25T01:40:10.286900Z",
     "iopub.status.busy": "2023-06-25T01:40:10.286616Z",
     "iopub.status.idle": "2023-06-25T01:40:15.175318Z",
     "shell.execute_reply": "2023-06-25T01:40:15.174343Z",
     "shell.execute_reply.started": "2023-06-25T01:40:10.286849Z"
    }
   },
   "outputs": [
    {
     "name": "stderr",
     "output_type": "stream",
     "text": [
      "/opt/conda/lib/python3.6/site-packages/sklearn/feature_extraction/text.py:300: UserWarning: Your stop_words may be inconsistent with your preprocessing. Tokenizing the stop words generated tokens ['le', 'u'] not in stop_words.\n",
      "  'stop_words.' % sorted(inconsistent))\n"
     ]
    }
   ],
   "source": [
    "from sklearn.feature_extraction.text import TfidfVectorizer\n",
    "# train features and labels \n",
    "y = df['Title']\n",
    "X = df['RequiredQual']\n",
    "# tdif feature rep \n",
    "vectorizer = TfidfVectorizer(tokenizer=LemmaTokenizer(), stop_words='english')\n",
    "vectorizer.fit(X)\n",
    "# transoforming text to tdif features\n",
    "tfidf_matrix = vectorizer.transform(X)\n",
    "# sparse matrix to dense matrix for training\n",
    "X_tdif = tfidf_matrix.toarray()\n",
    "# encoding text labels in categories \n",
    "enc = LabelEncoder() \n",
    "enc.fit(y.values)\n",
    "y_enc=enc.transform(y.values)\n",
    "\n",
    "X_train_words, X_test_words, y_train, y_test = train_test_split(X, y_enc, test_size=0.15, random_state=10)\n",
    "\n",
    "X_train = vectorizer.transform(X_train_words)\n",
    "X_train = X_train.toarray()\n",
    "\n",
    "X_test = vectorizer.transform(X_test_words)\n",
    "X_test = X_test.toarray()\n"
   ]
  },
  {
   "cell_type": "code",
   "execution_count": 33,
   "metadata": {
    "execution": {
     "iopub.execute_input": "2023-06-25T02:24:08.443940Z",
     "iopub.status.busy": "2023-06-25T02:24:08.443543Z",
     "iopub.status.idle": "2023-06-25T02:24:08.451064Z",
     "shell.execute_reply": "2023-06-25T02:24:08.450423Z",
     "shell.execute_reply.started": "2023-06-25T02:24:08.443879Z"
    }
   },
   "outputs": [
    {
     "data": {
      "text/plain": [
       "<1x2902 sparse matrix of type '<class 'numpy.float64'>'\n",
       "\twith 7 stored elements in Compressed Sparse Row format>"
      ]
     },
     "execution_count": 33,
     "metadata": {},
     "output_type": "execute_result"
    }
   ],
   "source": [
    "tdata = vectorizer.transform([\"Good Experince in web development using Reactjs Nodejs And MySql\"])\n",
    "tdata"
   ]
  },
  {
   "cell_type": "markdown",
   "metadata": {},
   "source": [
    "# Training Naive Bayes\n",
    "Looks pretty overfit"
   ]
  },
  {
   "cell_type": "code",
   "execution_count": 23,
   "metadata": {
    "execution": {
     "iopub.execute_input": "2023-06-25T01:40:15.187054Z",
     "iopub.status.busy": "2023-06-25T01:40:15.186680Z",
     "iopub.status.idle": "2023-06-25T01:40:15.475436Z",
     "shell.execute_reply": "2023-06-25T01:40:15.474470Z",
     "shell.execute_reply.started": "2023-06-25T01:40:15.186983Z"
    }
   },
   "outputs": [
    {
     "name": "stdout",
     "output_type": "stream",
     "text": [
      "Train acc: 0.9455852156057495\n",
      "Test acc: 0.6918604651162791\n"
     ]
    }
   ],
   "source": [
    "from sklearn.naive_bayes import GaussianNB, MultinomialNB\n",
    "from sklearn.discriminant_analysis import LinearDiscriminantAnalysis\n",
    "gnb = GaussianNB()\n",
    "train_preds = gnb.fit(X_train, y_train).predict(X_train)\n",
    "test_preds = gnb.predict(X_test)\n",
    "\n",
    "print('Train acc: {0}'.format(accuracy_score(y_train, train_preds)))\n",
    "print('Test acc: {0}'.format(accuracy_score(y_test, test_preds)))\n"
   ]
  },
  {
   "cell_type": "markdown",
   "metadata": {},
   "source": [
    "# Training Logistic Regression\n",
    "By modifiying the maximum number of iterations, and regularization, C, the above experienced overfitting was reduced significantly \n"
   ]
  },
  {
   "cell_type": "code",
   "execution_count": 24,
   "metadata": {
    "execution": {
     "iopub.execute_input": "2023-06-25T01:40:15.477274Z",
     "iopub.status.busy": "2023-06-25T01:40:15.476911Z",
     "iopub.status.idle": "2023-06-25T01:40:15.615849Z",
     "shell.execute_reply": "2023-06-25T01:40:15.615219Z",
     "shell.execute_reply.started": "2023-06-25T01:40:15.477216Z"
    }
   },
   "outputs": [
    {
     "name": "stdout",
     "output_type": "stream",
     "text": [
      "[LibLinear]Train acc: 0.8757700205338809\n",
      "Test acc: 0.7383720930232558\n"
     ]
    },
    {
     "name": "stderr",
     "output_type": "stream",
     "text": [
      "/opt/conda/lib/python3.6/site-packages/sklearn/linear_model/logistic.py:432: FutureWarning: Default solver will be changed to 'lbfgs' in 0.22. Specify a solver to silence this warning.\n",
      "  FutureWarning)\n",
      "/opt/conda/lib/python3.6/site-packages/sklearn/linear_model/logistic.py:469: FutureWarning: Default multi_class will be changed to 'auto' in 0.22. Specify the multi_class option to silence this warning.\n",
      "  \"this warning.\", FutureWarning)\n"
     ]
    }
   ],
   "source": [
    "from sklearn.linear_model import LogisticRegression\n",
    "\n",
    "logistic = LogisticRegression(max_iter=15,verbose=1, C=0.75)\n",
    "\n",
    "train_preds = logistic.fit(X_train, y_train).predict(X_train)\n",
    "test_preds = logistic.predict(X_test)\n",
    "\n",
    "print('Train acc: {0}'.format(accuracy_score(y_train, train_preds)))\n",
    "print('Test acc: {0}'.format(accuracy_score(y_test, test_preds)))\n"
   ]
  },
  {
   "cell_type": "code",
   "execution_count": 38,
   "metadata": {
    "execution": {
     "iopub.execute_input": "2023-06-25T02:31:15.417009Z",
     "iopub.status.busy": "2023-06-25T02:31:15.416632Z",
     "iopub.status.idle": "2023-06-25T02:31:15.424630Z",
     "shell.execute_reply": "2023-06-25T02:31:15.423714Z",
     "shell.execute_reply.started": "2023-06-25T02:31:15.416957Z"
    }
   },
   "outputs": [
    {
     "data": {
      "text/plain": [
       "array(['Web Developer'], dtype=object)"
      ]
     },
     "execution_count": 38,
     "metadata": {},
     "output_type": "execute_result"
    }
   ],
   "source": [
    "tpred = logistic.predict.proba(tdata)\n",
    "predicted_titles = enc.inverse_transform(tpred)\n",
    "predicted_titles"
   ]
  },
  {
   "cell_type": "code",
   "execution_count": 26,
   "metadata": {
    "execution": {
     "iopub.execute_input": "2023-06-25T01:40:15.636144Z",
     "iopub.status.busy": "2023-06-25T01:40:15.635718Z",
     "iopub.status.idle": "2023-06-25T01:40:15.646403Z",
     "shell.execute_reply": "2023-06-25T01:40:15.645569Z",
     "shell.execute_reply.started": "2023-06-25T01:40:15.636056Z"
    }
   },
   "outputs": [
    {
     "data": {
      "text/plain": [
       "array([[0.04782917, 0.03746419, 0.05844109, 0.069942  , 0.05074412,\n",
       "        0.06791548, 0.04753732, 0.08559118, 0.03113437, 0.08086477,\n",
       "        0.10032974, 0.04617546, 0.21877079, 0.05726031]])"
      ]
     },
     "execution_count": 26,
     "metadata": {},
     "output_type": "execute_result"
    }
   ],
   "source": [
    "tpred_proba = logistic.predict_proba(tdata)\n",
    "tpred_proba"
   ]
  },
  {
   "cell_type": "code",
   "execution_count": 27,
   "metadata": {
    "execution": {
     "iopub.execute_input": "2023-06-25T01:40:15.648210Z",
     "iopub.status.busy": "2023-06-25T01:40:15.647920Z",
     "iopub.status.idle": "2023-06-25T01:40:15.659751Z",
     "shell.execute_reply": "2023-06-25T01:40:15.658614Z",
     "shell.execute_reply.started": "2023-06-25T01:40:15.648160Z"
    }
   },
   "outputs": [
    {
     "data": {
      "text/plain": [
       "array([ 1,  6, 12,  5, 10,  6,  1,  4,  1,  4,  3,  9,  9,  9, 11, 11,  9,\n",
       "        9,  7,  3, 10,  3,  0,  1,  9, 12,  0, 10, 13, 12, 12,  5,  5,  1,\n",
       "       12, 10,  7,  5,  8,  5,  6,  7,  6,  3, 10,  0, 10, 13,  5, 10,  4,\n",
       "        2,  7, 11,  0,  2,  9,  5, 12,  9,  9, 12,  2, 12, 10, 12,  3, 12,\n",
       "        7,  2,  0,  0, 10,  5, 10,  6,  5,  8, 10, 10,  3,  7,  5,  5, 10,\n",
       "        3,  4,  8,  7,  9,  9, 12,  9,  8,  3, 10,  9,  5,  0,  4,  6,  4,\n",
       "        9,  9, 13,  8,  9, 10,  9, 12,  6,  3,  0,  6, 10,  6,  4,  0,  5,\n",
       "       12, 10,  3,  6,  0, 12, 10, 11,  8,  9,  9,  5,  7,  3, 12,  7,  6,\n",
       "       10,  5,  9,  6,  5, 10,  3, 13,  6,  2,  5,  5,  9,  2,  6, 10,  0,\n",
       "        4,  4, 11,  7, 12, 11, 11,  9, 12, 10, 12, 12,  0,  5,  3, 10,  4,\n",
       "        9,  5])"
      ]
     },
     "execution_count": 27,
     "metadata": {},
     "output_type": "execute_result"
    }
   ],
   "source": [
    "y_test"
   ]
  },
  {
   "cell_type": "markdown",
   "metadata": {},
   "source": [
    "# Creating Job Recommendations \n",
    "Recommends 2 job position alternatives given a job requirement. By obtaining probability of class predictions, and picking the top N predictions, other than true label, N closest recommendations can be got"
   ]
  },
  {
   "cell_type": "code",
   "execution_count": 28,
   "metadata": {
    "execution": {
     "iopub.execute_input": "2023-06-25T01:40:15.661684Z",
     "iopub.status.busy": "2023-06-25T01:40:15.661241Z",
     "iopub.status.idle": "2023-06-25T01:40:15.699645Z",
     "shell.execute_reply": "2023-06-25T01:40:15.698880Z",
     "shell.execute_reply.started": "2023-06-25T01:40:15.661637Z"
    }
   },
   "outputs": [],
   "source": [
    "preds_data = {'Current Position Requirments': [], 'Current Position': [], 'Alternative 1': [], 'Alternative 2': []}\n",
    "y_preds_proba = logistic.predict_proba(X_test)\n",
    "\n",
    "counter = 0 \n",
    "for idx, (pred_row, true_job_position) in enumerate(zip(y_preds_proba, y_test)):\n",
    "    class_preds = np.argsort(pred_row)\n",
    "    # delete true class\n",
    "    for i in [-1, -2]:\n",
    "        if class_preds[i] == true_job_position:\n",
    "            class_preds=np.delete(class_preds,i)\n",
    "    # getting other 2 highest job predictions         \n",
    "    top_classes = class_preds[-2:]\n",
    "    # obtaining class name string from int label \n",
    "    class_names = enc.inverse_transform(top_classes)\n",
    "    true_job_position_name = enc.inverse_transform([true_job_position])\n",
    "    # saving to dict\n",
    "    preds_data['Current Position Requirments'].append(X_test_words.iloc[idx])\n",
    "    preds_data['Current Position'].append(true_job_position_name[0])\n",
    "    preds_data['Alternative 1'].append(class_names[1])\n",
    "    preds_data['Alternative 2'].append(class_names[0])\n",
    "\n",
    "    \n",
    "    counter +=1"
   ]
  },
  {
   "cell_type": "code",
   "execution_count": 53,
   "metadata": {
    "execution": {
     "iopub.execute_input": "2023-06-25T02:47:00.960788Z",
     "iopub.status.busy": "2023-06-25T02:47:00.960125Z",
     "iopub.status.idle": "2023-06-25T02:47:00.973730Z",
     "shell.execute_reply": "2023-06-25T02:47:00.972740Z",
     "shell.execute_reply.started": "2023-06-25T02:47:00.960719Z"
    }
   },
   "outputs": [
    {
     "name": "stdout",
     "output_type": "stream",
     "text": [
      "Predicted Job is:['iOS Developer']\n",
      "[ 8  6  1  0 11 12  2  5  9 10  4  3  7 13]\n",
      "top class=[12  9]\n",
      "['Web Developer' 'Software Developer']\n"
     ]
    }
   ],
   "source": [
    "preds_data = {'Current Position Requirments': [], 'Current Position': [], 'Alternative 1': [], 'Alternative 2': []}\n",
    "tdata = vectorizer.transform([\"Fresher with projects in flutter and developed apps for ios\"])\n",
    "actual_pred = logistic.predict(tdata)\n",
    "predicted_titles = enc.inverse_transform(actual_pred)\n",
    "print(f\"Predicted Job is:{predicted_titles}\")\n",
    "tpred = logistic.predict_proba(tdata)\n",
    "for i in tpred:\n",
    "    class_pred = np.argsort(i)\n",
    "    print(class_pred)\n",
    "    for i in [-1, -2]:\n",
    "        if class_preds[i] == actual_pred:\n",
    "            class_preds=np.delete(class_preds,i)\n",
    "    top_classes = class_preds[-2:]\n",
    "    print(f\"top class={top_classes}\")\n",
    "    class_names = enc.inverse_transform(top_classes)\n",
    "    print(class_names)\n",
    "    "
   ]
  },
  {
   "cell_type": "code",
   "execution_count": 29,
   "metadata": {
    "execution": {
     "iopub.execute_input": "2023-06-25T01:40:15.701561Z",
     "iopub.status.busy": "2023-06-25T01:40:15.701138Z",
     "iopub.status.idle": "2023-06-25T01:40:15.718597Z",
     "shell.execute_reply": "2023-06-25T01:40:15.717455Z",
     "shell.execute_reply.started": "2023-06-25T01:40:15.701474Z"
    }
   },
   "outputs": [
    {
     "data": {
      "text/html": [
       "<div>\n",
       "<style scoped>\n",
       "    .dataframe tbody tr th:only-of-type {\n",
       "        vertical-align: middle;\n",
       "    }\n",
       "\n",
       "    .dataframe tbody tr th {\n",
       "        vertical-align: top;\n",
       "    }\n",
       "\n",
       "    .dataframe thead th {\n",
       "        text-align: right;\n",
       "    }\n",
       "</style>\n",
       "<table border=\"1\" class=\"dataframe\">\n",
       "  <thead>\n",
       "    <tr style=\"text-align: right;\">\n",
       "      <th></th>\n",
       "      <th>Current Position Requirments</th>\n",
       "      <th>Current Position</th>\n",
       "      <th>Alternative 1</th>\n",
       "      <th>Alternative 2</th>\n",
       "    </tr>\n",
       "  </thead>\n",
       "  <tbody>\n",
       "    <tr>\n",
       "      <td>0</td>\n",
       "      <td>From 1 to 5 years of experience in Android dev...</td>\n",
       "      <td>Android Developer</td>\n",
       "      <td>iOS Developer</td>\n",
       "      <td>Software Engineer</td>\n",
       "    </tr>\n",
       "    <tr>\n",
       "      <td>1</td>\n",
       "      <td>University degree in the appropriate field of ...</td>\n",
       "      <td>PHP Developer</td>\n",
       "      <td>Web Developer</td>\n",
       "      <td>Software Developer</td>\n",
       "    </tr>\n",
       "    <tr>\n",
       "      <td>2</td>\n",
       "      <td>At least 3 years of experience with PHP and Ja...</td>\n",
       "      <td>Web Developer</td>\n",
       "      <td>Software Engineer</td>\n",
       "      <td>PHP Developer</td>\n",
       "    </tr>\n",
       "    <tr>\n",
       "      <td>3</td>\n",
       "      <td>At least 3 years of work experience as a Java ...</td>\n",
       "      <td>Java Developer</td>\n",
       "      <td>Software Engineer</td>\n",
       "      <td>Software Developer</td>\n",
       "    </tr>\n",
       "    <tr>\n",
       "      <td>4</td>\n",
       "      <td>Bachelor??s degree in Engineering or Informati...</td>\n",
       "      <td>Software Engineer</td>\n",
       "      <td>Software Developer</td>\n",
       "      <td>Web Developer</td>\n",
       "    </tr>\n",
       "    <tr>\n",
       "      <td>...</td>\n",
       "      <td>...</td>\n",
       "      <td>...</td>\n",
       "      <td>...</td>\n",
       "      <td>...</td>\n",
       "    </tr>\n",
       "    <tr>\n",
       "      <td>167</td>\n",
       "      <td>Artistic ability to draw, sketch and design cr...</td>\n",
       "      <td>Graphic Designer</td>\n",
       "      <td>Web Developer</td>\n",
       "      <td>Software Developer</td>\n",
       "    </tr>\n",
       "    <tr>\n",
       "      <td>168</td>\n",
       "      <td>BS in Computer Science, Maths or a related dis...</td>\n",
       "      <td>Software Engineer</td>\n",
       "      <td>PHP Developer</td>\n",
       "      <td>Java Developer</td>\n",
       "    </tr>\n",
       "    <tr>\n",
       "      <td>169</td>\n",
       "      <td>University degree in Information Technology or...</td>\n",
       "      <td>IT Specialist</td>\n",
       "      <td>Software Developer</td>\n",
       "      <td>Database Admin/Dev</td>\n",
       "    </tr>\n",
       "    <tr>\n",
       "      <td>170</td>\n",
       "      <td>University degree in Computer Science, Informa...</td>\n",
       "      <td>Software Developer</td>\n",
       "      <td>Java Developer</td>\n",
       "      <td>Software Engineer</td>\n",
       "    </tr>\n",
       "    <tr>\n",
       "      <td>171</td>\n",
       "      <td>At least 5 years of experience in software dev...</td>\n",
       "      <td>Java Developer</td>\n",
       "      <td>Software Engineer</td>\n",
       "      <td>Software Developer</td>\n",
       "    </tr>\n",
       "  </tbody>\n",
       "</table>\n",
       "<p>172 rows × 4 columns</p>\n",
       "</div>"
      ],
      "text/plain": [
       "                          Current Position Requirments    Current Position  \\\n",
       "0    From 1 to 5 years of experience in Android dev...   Android Developer   \n",
       "1    University degree in the appropriate field of ...       PHP Developer   \n",
       "2    At least 3 years of experience with PHP and Ja...       Web Developer   \n",
       "3    At least 3 years of work experience as a Java ...      Java Developer   \n",
       "4    Bachelor??s degree in Engineering or Informati...   Software Engineer   \n",
       "..                                                 ...                 ...   \n",
       "167  Artistic ability to draw, sketch and design cr...    Graphic Designer   \n",
       "168  BS in Computer Science, Maths or a related dis...   Software Engineer   \n",
       "169  University degree in Information Technology or...       IT Specialist   \n",
       "170  University degree in Computer Science, Informa...  Software Developer   \n",
       "171  At least 5 years of experience in software dev...      Java Developer   \n",
       "\n",
       "          Alternative 1       Alternative 2  \n",
       "0         iOS Developer   Software Engineer  \n",
       "1         Web Developer  Software Developer  \n",
       "2     Software Engineer       PHP Developer  \n",
       "3     Software Engineer  Software Developer  \n",
       "4    Software Developer       Web Developer  \n",
       "..                  ...                 ...  \n",
       "167       Web Developer  Software Developer  \n",
       "168       PHP Developer      Java Developer  \n",
       "169  Software Developer  Database Admin/Dev  \n",
       "170      Java Developer   Software Engineer  \n",
       "171   Software Engineer  Software Developer  \n",
       "\n",
       "[172 rows x 4 columns]"
      ]
     },
     "execution_count": 29,
     "metadata": {},
     "output_type": "execute_result"
    }
   ],
   "source": [
    "preds_df = pd.DataFrame.from_dict(preds_data)\n",
    "#preds_df.to_csv('Recommendations.csv', index=False)\n",
    "preds_df\n"
   ]
  }
 ],
 "metadata": {
  "kernelspec": {
   "display_name": "Python 3 (ipykernel)",
   "language": "python",
   "name": "python3"
  },
  "language_info": {
   "codemirror_mode": {
    "name": "ipython",
    "version": 3
   },
   "file_extension": ".py",
   "mimetype": "text/x-python",
   "name": "python",
   "nbconvert_exporter": "python",
   "pygments_lexer": "ipython3",
   "version": "3.11.0"
  }
 },
 "nbformat": 4,
 "nbformat_minor": 4
}
